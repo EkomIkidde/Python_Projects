{
 "cells": [
  {
   "cell_type": "code",
   "execution_count": 1,
   "id": "52b9958d",
   "metadata": {},
   "outputs": [],
   "source": [
    "import numpy as np\n",
    "import pandas as pd\n",
    "import seaborn as sns\n",
    "import matplotlib.pyplot as plt\n"
   ]
  },
  {
   "cell_type": "code",
   "execution_count": 2,
   "id": "9768fb55",
   "metadata": {},
   "outputs": [
    {
     "name": "stdout",
     "output_type": "stream",
     "text": [
      "      SUMLEV  REGION  DIVISION  STATE  COUNTY   STNAME            CTYNAME  \\\n",
      "0         40       3         6      1       0  Alabama            Alabama   \n",
      "1         50       3         6      1       1  Alabama     Autauga County   \n",
      "2         50       3         6      1       3  Alabama     Baldwin County   \n",
      "3         50       3         6      1       5  Alabama     Barbour County   \n",
      "4         50       3         6      1       7  Alabama        Bibb County   \n",
      "...      ...     ...       ...    ...     ...      ...                ...   \n",
      "3188      50       4         8     56      37  Wyoming  Sweetwater County   \n",
      "3189      50       4         8     56      39  Wyoming       Teton County   \n",
      "3190      50       4         8     56      41  Wyoming       Uinta County   \n",
      "3191      50       4         8     56      43  Wyoming    Washakie County   \n",
      "3192      50       4         8     56      45  Wyoming      Weston County   \n",
      "\n",
      "      CENSUS2010POP  ESTIMATESBASE2010  POPESTIMATE2010  ...  \\\n",
      "0           4779736            4780127          4785161  ...   \n",
      "1             54571              54571            54660  ...   \n",
      "2            182265             182265           183193  ...   \n",
      "3             27457              27457            27341  ...   \n",
      "4             22915              22919            22861  ...   \n",
      "...             ...                ...              ...  ...   \n",
      "3188          43806              43806            43593  ...   \n",
      "3189          21294              21294            21297  ...   \n",
      "3190          21118              21118            21102  ...   \n",
      "3191           8533               8533             8545  ...   \n",
      "3192           7208               7208             7181  ...   \n",
      "\n",
      "      RDOMESTICMIG2011  RDOMESTICMIG2012  RDOMESTICMIG2013  RDOMESTICMIG2014  \\\n",
      "0             0.002295         -0.193196          0.381066          0.582002   \n",
      "1             7.242091         -2.915927         -3.012349          2.265971   \n",
      "2            14.832960         17.647293         21.845705         19.243287   \n",
      "3            -4.728132         -2.500690         -7.056824         -3.904217   \n",
      "4            -5.527043         -5.068871         -6.201001         -0.177537   \n",
      "...                ...               ...               ...               ...   \n",
      "3188          1.072643         16.243199         -5.339774        -14.252889   \n",
      "3189         -1.589565          0.972695         19.525929         14.143021   \n",
      "3190        -17.755986         -4.916350         -6.902954        -14.215862   \n",
      "3191        -11.637475         -0.827815         -2.013502        -17.781491   \n",
      "3192        -11.752361         -8.040059         12.372583          1.533635   \n",
      "\n",
      "      RDOMESTICMIG2015  RNETMIG2011  RNETMIG2012  RNETMIG2013  RNETMIG2014  \\\n",
      "0            -0.467369     1.030015     0.826644     1.383282     1.724718   \n",
      "1            -2.530799     7.606016    -2.626146    -2.722002     2.592270   \n",
      "2            17.197872    15.844176    18.559627    22.727626    20.317142   \n",
      "3           -10.543299    -4.874741    -2.758113    -7.167664    -3.978583   \n",
      "4             0.177258    -5.088389    -4.363636    -5.403729     0.754533   \n",
      "...                ...          ...          ...          ...          ...   \n",
      "3188        -14.248864     1.255221    16.243199    -5.295460   -14.075283   \n",
      "3189         -0.564849     0.654527     2.408578    21.160658    16.308671   \n",
      "3190        -12.127022   -18.136812    -5.536861    -7.521840   -14.740608   \n",
      "3191          1.682288   -11.990126    -1.182592    -2.250385   -18.020168   \n",
      "3192          6.935294   -12.032179    -8.040059    12.372583     1.533635   \n",
      "\n",
      "      RNETMIG2015  \n",
      "0        0.712594  \n",
      "1       -2.187333  \n",
      "2       18.293499  \n",
      "3      -10.543299  \n",
      "4        1.107861  \n",
      "...           ...  \n",
      "3188   -14.070195  \n",
      "3189     1.520747  \n",
      "3190   -12.606351  \n",
      "3191     1.441961  \n",
      "3192     6.935294  \n",
      "\n",
      "[3193 rows x 100 columns]\n"
     ]
    }
   ],
   "source": [
    "US_census = pd.read_csv(r'C:\\Users\\ekomo\\Downloads\\census.csv')\n",
    "print (US_census)                                 "
   ]
  },
  {
   "cell_type": "code",
   "execution_count": 5,
   "id": "bca13bec",
   "metadata": {},
   "outputs": [
    {
     "data": {
      "text/plain": [
       "STATE\n",
       "1      68\n",
       "2      30\n",
       "4      16\n",
       "5      76\n",
       "6      59\n",
       "8      65\n",
       "9       9\n",
       "10      4\n",
       "11      2\n",
       "12     68\n",
       "13    160\n",
       "15      6\n",
       "16     45\n",
       "17    103\n",
       "18     93\n",
       "19    100\n",
       "20    106\n",
       "21    121\n",
       "22     65\n",
       "23     17\n",
       "24     25\n",
       "25     15\n",
       "26     84\n",
       "27     88\n",
       "28     83\n",
       "29    116\n",
       "30     57\n",
       "31     94\n",
       "32     18\n",
       "33     11\n",
       "34     22\n",
       "35     34\n",
       "36     63\n",
       "37    101\n",
       "38     54\n",
       "39     89\n",
       "40     78\n",
       "41     37\n",
       "42     68\n",
       "44      6\n",
       "45     47\n",
       "46     67\n",
       "47     96\n",
       "48    255\n",
       "49     30\n",
       "50     15\n",
       "51    134\n",
       "53     40\n",
       "54     56\n",
       "55     73\n",
       "56     24\n",
       "Name: COUNTY, dtype: int64"
      ]
     },
     "execution_count": 5,
     "metadata": {},
     "output_type": "execute_result"
    }
   ],
   "source": [
    "US_census.groupby('STATE')['COUNTY'].nunique()"
   ]
  },
  {
   "cell_type": "code",
   "execution_count": 13,
   "id": "bf7f8463",
   "metadata": {},
   "outputs": [
    {
     "name": "stdout",
     "output_type": "stream",
     "text": [
      "The state with the most counties is: 48\n"
     ]
    }
   ],
   "source": [
    "county_counts = US_census.groupby('STATE')['COUNTY'].nunique()\n",
    "\n",
    "# states with maximum counties\n",
    "state_with_most_counties = county_counts.idxmax()\n",
    "\n",
    "\n",
    "print(f\"The state with the most counties is: {state_with_most_counties}\")"
   ]
  },
  {
   "cell_type": "code",
   "execution_count": 14,
   "id": "fe1df6cc",
   "metadata": {},
   "outputs": [
    {
     "name": "stdout",
     "output_type": "stream",
     "text": [
      "The three most populous states (in order of highest population to lowest population) are:\n",
      "6: 50167874 people\n",
      "48: 31606159 people\n",
      "36: 24113524 people\n"
     ]
    }
   ],
   "source": [
    "\n",
    "# Sort 'State' and 'CENSUS2010POP' in descending order\n",
    "US_census_sorted = US_census.sort_values(by=['STATE', 'CENSUS2010POP'], ascending=[True, False])\n",
    "\n",
    "# Group by 'State' and get the top 3 counties with the highest population for each state\n",
    "top_counties_by_state = US_census_sorted.groupby('STATE').head(3)\n",
    "\n",
    "# Group the result by 'State' again and sum the population to get the state population\n",
    "state_populations = top_counties_by_state.groupby('STATE')['CENSUS2010POP'].sum()\n",
    "\n",
    "# Sort the states by population in descending order\n",
    "top_3_states = state_populations.sort_values(ascending=False).head(3)\n",
    "\n",
    "\n",
    "print(\"The three most populous states (in order of highest population to lowest population) are:\")\n",
    "for state, population in top_3_states.items():\n",
    "    print(f\"{state}: {population} people\")\n"
   ]
  },
  {
   "cell_type": "code",
   "execution_count": 16,
   "id": "4c70318a",
   "metadata": {},
   "outputs": [
    {
     "name": "stdout",
     "output_type": "stream",
     "text": [
      "The city with the most counties is: Alabama\n"
     ]
    }
   ],
   "source": [
    "\n",
    "# Group the data by  (state) and (county) and count the number of unique 'CTYNAME' values\n",
    "county_counts_by_city = US_census.groupby(['STNAME', 'CTYNAME'])['CTYNAME'].count()\n",
    "\n",
    "# city with the maximum number of counties\n",
    "city_with_most_counties = county_counts_by_city.groupby('STNAME').idxmax()\n",
    "\n",
    "# Extract the city name from the index\n",
    "most_counties_city = city_with_most_counties.apply(lambda x: x[1])\n",
    "\n",
    "print(f\"The city with the most counties is: {most_counties_city.values[0]}\")\n"
   ]
  },
  {
   "cell_type": "code",
   "execution_count": 18,
   "id": "1f5c53f6",
   "metadata": {},
   "outputs": [
    {
     "name": "stdout",
     "output_type": "stream",
     "text": [
      "The region with the most divisions is: 3\n"
     ]
    }
   ],
   "source": [
    "\n",
    "# Group the data by 'Region' and count the number of unique 'Division' values\n",
    "division_counts_by_region = US_census.groupby('REGION')['DIVISION'].nunique()\n",
    "\n",
    "# Find region with the maximum number of divisions\n",
    "region_with_most_divisions = division_counts_by_region.idxmax()\n",
    "\n",
    "# Print region with the most divisions\n",
    "print(f\"The region with the most divisions is: {region_with_most_divisions}\")\n"
   ]
  },
  {
   "cell_type": "code",
   "execution_count": null,
   "id": "d8ab3dc4",
   "metadata": {},
   "outputs": [],
   "source": []
  }
 ],
 "metadata": {
  "kernelspec": {
   "display_name": "Python 3 (ipykernel)",
   "language": "python",
   "name": "python3"
  },
  "language_info": {
   "codemirror_mode": {
    "name": "ipython",
    "version": 3
   },
   "file_extension": ".py",
   "mimetype": "text/x-python",
   "name": "python",
   "nbconvert_exporter": "python",
   "pygments_lexer": "ipython3",
   "version": "3.11.3"
  }
 },
 "nbformat": 4,
 "nbformat_minor": 5
}
